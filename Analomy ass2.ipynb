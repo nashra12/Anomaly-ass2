{
 "cells": [
  {
   "cell_type": "markdown",
   "id": "0fc38e4e-764e-4fcb-88bd-7906701060d5",
   "metadata": {},
   "source": [
    "Q1. What is the role of feature selection in anomaly detection?\n",
    "Ans-> Feature selection plays an important role when it comes to improve outlier detection in terms of identifying noisy data that contain irrelevant or redundant features.\n",
    "\n",
    "\n",
    "Q2. What are some common evaluation metrics for anomaly detection algorithms and how are they\n",
    "computed?\n",
    "Ans-> A high PR-AUC(Precision-Recall Area Under the Curve)  suggests a good balance between precision and recall for anomaly detection. This metric is particularly relevant when the dataset is imbalanced and contains relatively few anomalies.\n",
    "\n",
    "\n",
    "\n",
    "Q3. What is DBSCAN and how does it work for clustering?\n",
    "Ans-> For Non linear data,basically we have three oints\n",
    "1)Core points: Num of points within epsilon should be grater than or equals to min value=4\n",
    "2)Border Points : Num of points within epsilon should be less than or equals to min value=4\n",
    "3)Outlier : No other points ,DBSCAN is robust to outliers.\n",
    "\n",
    "\n",
    "\n",
    "Q4. How does the epsilon parameter affect the performance of DBSCAN in detecting anomalies?\n",
    "Ans-> If  epsilon is too small,  clusters will be defined as noise. If epsilon is too large,  clusters may be merged together.\n",
    "\n",
    "\n",
    "\n",
    "Q5. How does DBSCAN detect anomalies and what are the key parameters involved in the process?\n",
    "Ans-> DBSCAN requires only two parameters: epsilon and minPoints. Epsilon is the radius of the circle to be created around each data point to check the density and minPoints is the minimum number of data points required inside that circle for that data point to be classified as a Core points.\n",
    "\n",
    "\n",
    "\n",
    "Q6. What is the make_circles package in scikit-learn used for?\n",
    "Ans-> Make a large circle containing a smaller circle in 2d.\n",
    "\n",
    "\n",
    "\n",
    "Q7. What are local outliers and global outliers, and how do they differ from each other?\n",
    "Ans-> A global outlier, outlier detection considers all data points, and the data point is considered an outlier if it is far away from all other data points . The local outlier detection covers a small subset of data points at a time.\n",
    "\n",
    "\n",
    "\n",
    "Q8. How can local outliers be detected using the Local Outlier Factor (LOF) algorithm?\n",
    "Ans-> By comparing the density of the data point and density of all the data points in the neighborhood, whether the density of the data point is lower than the density of the neighborhood.\n",
    "\n",
    "\n",
    "\n",
    "Q10. How can global outliers be detected using the Isolation Forest algorithm?\n",
    "Ans-> By randomly selecting features and splitting data based on threshold values. This approach is effective in quickly identifying outliers, making it well-suited for large datasets where anomalies are rare and distinct.\n",
    "\n"
   ]
  },
  {
   "cell_type": "code",
   "execution_count": null,
   "id": "896184bb-c81b-4941-b249-9cdd80a2905a",
   "metadata": {},
   "outputs": [],
   "source": []
  }
 ],
 "metadata": {
  "kernelspec": {
   "display_name": "Python 3 (ipykernel)",
   "language": "python",
   "name": "python3"
  },
  "language_info": {
   "codemirror_mode": {
    "name": "ipython",
    "version": 3
   },
   "file_extension": ".py",
   "mimetype": "text/x-python",
   "name": "python",
   "nbconvert_exporter": "python",
   "pygments_lexer": "ipython3",
   "version": "3.10.8"
  }
 },
 "nbformat": 4,
 "nbformat_minor": 5
}
